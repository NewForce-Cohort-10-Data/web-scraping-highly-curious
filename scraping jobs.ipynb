{
 "cells": [
  {
   "cell_type": "code",
   "execution_count": 1,
   "id": "7bcb5fd7-1b07-4f23-bb2e-b2b3b523cb02",
   "metadata": {},
   "outputs": [],
   "source": [
    "import requests\n",
    "from bs4 import BeautifulSoup\n",
    "import pandas as pd"
   ]
  },
  {
   "cell_type": "code",
   "execution_count": 2,
   "id": "47180885-630f-4436-8d60-d3d1592f6a98",
   "metadata": {},
   "outputs": [],
   "source": [
    "# 1 Start by performing a GET request on the url above and convert the response into a BeautifulSoup object.\n",
    "\n",
    "url = 'https://realpython.github.io/fake-jobs/'\n",
    "\n",
    "# GET request\n",
    "response = requests.get(url)\n",
    "\n",
    "# Convert response to  BeautifulSoup object\n",
    "soup = BeautifulSoup(response.content, 'html.parser')"
   ]
  },
  {
   "cell_type": "code",
   "execution_count": 3,
   "id": "1b448ba0-9e42-47c5-8f81-23bad3be8915",
   "metadata": {},
   "outputs": [
    {
     "name": "stdout",
     "output_type": "stream",
     "text": [
      "First job title: Senior Python Developer\n"
     ]
    }
   ],
   "source": [
    "# 1a.Find the first job title\n",
    "first_job_title_tag = soup.find('h2', class_='title')\n",
    "\n",
    "# Extract the text\n",
    "if first_job_title_tag:\n",
    "    first_job_title = first_job_title_tag.text.strip()\n",
    "    print(\"First job title:\", first_job_title)\n",
    "else:\n",
    "    print(\"Could not find the job title element.\")"
   ]
  },
  {
   "cell_type": "code",
   "execution_count": 4,
   "id": "dba36f93-432d-423e-bd3c-6e61ddb8b798",
   "metadata": {},
   "outputs": [
    {
     "name": "stdout",
     "output_type": "stream",
     "text": [
      "['Senior Python Developer', 'Energy engineer', 'Legal executive', 'Fitness centre manager', 'Product manager', 'Medical technical officer', 'Physiological scientist', 'Textile designer', 'Television floor manager', 'Waste management officer', 'Software Engineer (Python)', 'Interpreter', 'Architect', 'Meteorologist', 'Audiological scientist', 'English as a second language teacher', 'Surgeon', 'Equities trader', 'Newspaper journalist', 'Materials engineer', 'Python Programmer (Entry-Level)', 'Product/process development scientist', 'Scientist, research (maths)', 'Ecologist', 'Materials engineer', 'Historic buildings inspector/conservation officer', 'Data scientist', 'Psychiatrist', 'Structural engineer', 'Immigration officer', 'Python Programmer (Entry-Level)', 'Neurosurgeon', 'Broadcast engineer', 'Make', 'Nurse, adult', 'Air broker', 'Editor, film/video', 'Production assistant, radio', 'Engineer, communications', 'Sales executive', 'Software Developer (Python)', 'Futures trader', 'Tour manager', 'Cytogeneticist', 'Designer, multimedia', 'Trade union research officer', 'Chemist, analytical', 'Programmer, multimedia', 'Engineer, broadcasting (operations)', 'Teacher, primary school', 'Python Developer', 'Manufacturing systems engineer', 'Producer, television/film/video', 'Scientist, forensic', 'Bonds trader', 'Editorial assistant', 'Photographer', 'Retail banker', 'Jewellery designer', 'Ophthalmologist', 'Back-End Web Developer (Python, Django)', 'Licensed conveyancer', 'Futures trader', 'Counselling psychologist', 'Insurance underwriter', 'Engineer, automotive', 'Producer, radio', 'Dispensing optician', 'Designer, fashion/clothing', 'Chartered loss adjuster', 'Back-End Web Developer (Python, Django)', 'Forest/woodland manager', 'Clinical cytogeneticist', 'Print production planner', 'Systems developer', 'Graphic designer', 'Writer', 'Field seismologist', 'Chief Strategy Officer', 'Air cabin crew', 'Python Programmer (Entry-Level)', 'Warden/ranger', 'Sports therapist', 'Arts development officer', 'Printmaker', 'Health and safety adviser', 'Manufacturing systems engineer', 'Programmer, applications', 'Medical physicist', 'Media planner', 'Software Developer (Python)', 'Surveyor, land/geomatics', 'Legal executive', 'Librarian, academic', 'Barrister', 'Museum/gallery exhibitions officer', 'Radiographer, diagnostic', 'Database administrator', 'Furniture designer', 'Ship broker']\n"
     ]
    }
   ],
   "source": [
    "# 1b. find all job titles \n",
    "job_titles = [title.text.strip() for title in soup.find_all('h2', class_='title')]\n",
    "print(job_titles)"
   ]
  },
  {
   "cell_type": "code",
   "execution_count": 5,
   "id": "5051ca95-9ad9-4d3e-a0c7-1e3f0e1e9300",
   "metadata": {},
   "outputs": [],
   "source": [
    "# 1c. extract the companies, locations, and posting dates for each job\n",
    "companies = [company.get_text(strip=True) for company in soup.find_all(\"h3\", class_=\"subtitle is-6 company\")]\n",
    "locations = [location.get_text(strip=True) for location in soup.find_all(\"p\", class_=\"location\")]\n",
    "date = [date.get_text(strip=True) for date in soup.find_all(\"time\")]"
   ]
  },
  {
   "cell_type": "code",
   "execution_count": 6,
   "id": "2f7c106f-7547-407d-839d-d0de250ef34b",
   "metadata": {},
   "outputs": [],
   "source": [
    "# 1d. convert lists into df\n",
    "jobs_df = pd.DataFrame({\n",
    "    'Title': job_titles,\n",
    "    'Company': companies,\n",
    "    'Location': locations,\n",
    "    'Date Posted': date})\n",
    "# print(jobs_df.head())"
   ]
  },
  {
   "cell_type": "code",
   "execution_count": 7,
   "id": "d2a64d64-781c-442d-adec-9c49d88f4862",
   "metadata": {},
   "outputs": [],
   "source": [
    "# 2a.  beautifulSoup find_all method\n",
    "base_url = \"https://realpython.github.io/fake-jobs/\"\n",
    "apply_links = [base_url + a[\"href\"] for a in soup.find_all(\"a\", string=\"Apply\")]\n",
    "jobs_df[\"Apply URL\"] = apply_links"
   ]
  },
  {
   "cell_type": "code",
   "execution_count": 8,
   "id": "4fa9884d-22f4-462c-a7d5-2d7923fd4616",
   "metadata": {
    "scrolled": true
   },
   "outputs": [],
   "source": [
    "# # 2b. manually construct urls\n",
    "# def generate_slug(title):\n",
    "#     return title.lower().replace(\",\", \"\").replace(\"(\", \"\").replace(\")\", \"\").replace(\" \", \"-\")\n",
    "\n",
    "# slugs = [generate_slug(title) for title in job_titles]\n",
    "# apply_urls_manual = [f\"https://realpython.github.io/fake-jobs/jobs/{slug}-{i+1}.html\" for i, slug in enumerate(slugs)]\n",
    "# pd.set_option('display.max_colwidth', None)\n",
    "# jobs_df[\"Apply URL\"].head(1)"
   ]
  },
  {
   "cell_type": "code",
   "execution_count": 25,
   "id": "599fb8fa-7304-42df-bb09-beeea94f7c24",
   "metadata": {},
   "outputs": [
    {
     "name": "stdout",
     "output_type": "stream",
     "text": [
      "Professional asset web application environmentally friendly detail-oriented asset. Coordinate educational dashboard agile employ growth opportunity. Company programs CSS explore role. Html educational grit web application. Oversea SCRUM talented support. Web Application fast-growing communities inclusive programs job CSS. Css discussions growth opportunity explore open-minded oversee. Css Python environmentally friendly collaborate inclusive role. Django no experience oversee dashboard environmentally friendly willing to learn programs. Programs open-minded programs asset.Location:Stewartbury, AAPosted:2021-04-08\n",
      "                     Title                     Company              Location  \\\n",
      "0  Senior Python Developer    Payne, Roberts and Davis       Stewartbury, AA   \n",
      "1          Energy engineer            Vasquez-Davidson  Christopherville, AA   \n",
      "2          Legal executive  Jackson, Chambers and Levy   Port Ericaburgh, AA   \n",
      "3   Fitness centre manager              Savage-Bradley     East Seanview, AP   \n",
      "4          Product manager                 Ramirez Inc   North Jamieview, AP   \n",
      "\n",
      "  Date Posted                                          Apply URL  \\\n",
      "0  2021-04-08  https://realpython.github.io/fake-jobs/https:/...   \n",
      "1  2021-04-08  https://realpython.github.io/fake-jobs/https:/...   \n",
      "2  2021-04-08  https://realpython.github.io/fake-jobs/https:/...   \n",
      "3  2021-04-08  https://realpython.github.io/fake-jobs/https:/...   \n",
      "4  2021-04-08  https://realpython.github.io/fake-jobs/https:/...   \n",
      "\n",
      "         Job Description  \n",
      "0  Description not found  \n",
      "1  Description not found  \n",
      "2  Description not found  \n",
      "3  Description not found  \n",
      "4  Description not found  \n"
     ]
    }
   ],
   "source": [
    "# 3a. extract job desccription\n",
    "job_url = \"https://realpython.github.io/fake-jobs/jobs/senior-python-developer-0.html\"\n",
    "job_response = requests.get(job_url)\n",
    "job_soup = BeautifulSoup(job_response.content, \"html.parser\")\n",
    "\n",
    "job_description = job_soup.find(\"div\", class_=\"content\").get_text(strip=True)\n",
    "print(job_description)\n",
    "print(jobs_df.head())"
   ]
  },
  {
   "cell_type": "code",
   "execution_count": 23,
   "id": "d4313e7f-b7f7-4acc-b4f4-d0c345fc991b",
   "metadata": {},
   "outputs": [
    {
     "name": "stdout",
     "output_type": "stream",
     "text": [
      "At be than always different American address. Former claim chance prevent why measure too. Almost before some military outside baby interview. Face top individual win suddenly. Parent do ten after those scientist. Medical effort assume teacher wall. Significant his himself clearly very. Expert stop area along individual. Three own bank recognize special good along.Location:Osbornetown, AEPosted:2021-04-08\n",
      "                     Title                     Company              Location  \\\n",
      "0  Senior Python Developer    Payne, Roberts and Davis       Stewartbury, AA   \n",
      "1          Energy engineer            Vasquez-Davidson  Christopherville, AA   \n",
      "2          Legal executive  Jackson, Chambers and Levy   Port Ericaburgh, AA   \n",
      "3   Fitness centre manager              Savage-Bradley     East Seanview, AP   \n",
      "4          Product manager                 Ramirez Inc   North Jamieview, AP   \n",
      "\n",
      "  Date Posted                                          Apply URL  \\\n",
      "0  2021-04-08  https://realpython.github.io/fake-jobs/https:/...   \n",
      "1  2021-04-08  https://realpython.github.io/fake-jobs/https:/...   \n",
      "2  2021-04-08  https://realpython.github.io/fake-jobs/https:/...   \n",
      "3  2021-04-08  https://realpython.github.io/fake-jobs/https:/...   \n",
      "4  2021-04-08  https://realpython.github.io/fake-jobs/https:/...   \n",
      "\n",
      "         Job Description  \n",
      "0  Description not found  \n",
      "1  Description not found  \n",
      "2  Description not found  \n",
      "3  Description not found  \n",
      "4  Description not found  \n"
     ]
    }
   ],
   "source": [
    "# 3b. extract description from anyurl\n",
    "def get_job_description(url):\n",
    "    response = requests.get(url)\n",
    "    soup = BeautifulSoup(response.content, \"html.parser\")\n",
    "    description_tag = soup.find(\"div\", class_=\"content\")\n",
    "\n",
    "    # Check if description_tag exists before calling get_text()\n",
    "    if description_tag:\n",
    "        return description_tag.get_text(strip=True)\n",
    "    else:\n",
    "        return \"Description not found\"\n",
    "\n",
    "desc_url = \"https://realpython.github.io/fake-jobs/jobs/television-floor-manager-8.html\"\n",
    "print(get_job_description(desc_url))"
   ]
  },
  {
   "cell_type": "code",
   "execution_count": 21,
   "id": "93567ae2-7a74-4bd3-bc5b-54bd7e68a114",
   "metadata": {},
   "outputs": [],
   "source": [
    "jobs_df[\"Job Description\"] = jobs_df[\"Apply URL\"].apply(get_job_description)"
   ]
  },
  {
   "cell_type": "code",
   "execution_count": 17,
   "id": "b0bb77ed-b223-4daf-9800-49fecc5e763f",
   "metadata": {},
   "outputs": [
    {
     "name": "stdout",
     "output_type": "stream",
     "text": [
      "                     Title                     Company              Location  \\\n",
      "0  Senior Python Developer    Payne, Roberts and Davis       Stewartbury, AA   \n",
      "1          Energy engineer            Vasquez-Davidson  Christopherville, AA   \n",
      "2          Legal executive  Jackson, Chambers and Levy   Port Ericaburgh, AA   \n",
      "3   Fitness centre manager              Savage-Bradley     East Seanview, AP   \n",
      "4          Product manager                 Ramirez Inc   North Jamieview, AP   \n",
      "\n",
      "  Date Posted                                          Apply URL  \\\n",
      "0  2021-04-08  https://realpython.github.io/fake-jobs/https:/...   \n",
      "1  2021-04-08  https://realpython.github.io/fake-jobs/https:/...   \n",
      "2  2021-04-08  https://realpython.github.io/fake-jobs/https:/...   \n",
      "3  2021-04-08  https://realpython.github.io/fake-jobs/https:/...   \n",
      "4  2021-04-08  https://realpython.github.io/fake-jobs/https:/...   \n",
      "\n",
      "         Job Description  \n",
      "0  Description not found  \n",
      "1  Description not found  \n",
      "2  Description not found  \n",
      "3  Description not found  \n",
      "4  Description not found  \n"
     ]
    }
   ],
   "source": [
    "print(jobs_df.head())"
   ]
  },
  {
   "cell_type": "code",
   "execution_count": null,
   "id": "639ad384-6dad-46bf-9e5f-b27fb9952170",
   "metadata": {},
   "outputs": [],
   "source": []
  }
 ],
 "metadata": {
  "kernelspec": {
   "display_name": "Python [conda env:base] *",
   "language": "python",
   "name": "conda-base-py"
  },
  "language_info": {
   "codemirror_mode": {
    "name": "ipython",
    "version": 3
   },
   "file_extension": ".py",
   "mimetype": "text/x-python",
   "name": "python",
   "nbconvert_exporter": "python",
   "pygments_lexer": "ipython3",
   "version": "3.12.7"
  }
 },
 "nbformat": 4,
 "nbformat_minor": 5
}
